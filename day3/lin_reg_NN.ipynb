{
  "nbformat": 4,
  "nbformat_minor": 0,
  "metadata": {
    "colab": {
      "name": "lin_reg_NN.ipynb",
      "provenance": [],
      "authorship_tag": "ABX9TyP6ZXY9Fgl5GvSjYd09i0M2",
      "include_colab_link": true
    },
    "kernelspec": {
      "name": "python3",
      "display_name": "Python 3"
    }
  },
  "cells": [
    {
      "cell_type": "markdown",
      "metadata": {
        "id": "view-in-github",
        "colab_type": "text"
      },
      "source": [
        "<a href=\"https://colab.research.google.com/github/ankushKun/learning-ML/blob/master/day3/lin_reg_NN.ipynb\" target=\"_parent\"><img src=\"https://colab.research.google.com/assets/colab-badge.svg\" alt=\"Open In Colab\"/></a>"
      ]
    },
    {
      "cell_type": "markdown",
      "metadata": {
        "id": "yRnCp6Q-mURF"
      },
      "source": [
        "# Linear regressing using neural networks"
      ]
    },
    {
      "cell_type": "code",
      "metadata": {
        "id": "u4UI7ShrmIb3"
      },
      "source": [
        "import torch\n",
        "import torch.nn as nn\n",
        "import numpy as np"
      ],
      "execution_count": 1,
      "outputs": []
    },
    {
      "cell_type": "markdown",
      "metadata": {
        "id": "nNcjBJWVoiYE"
      },
      "source": [
        "prepare data"
      ]
    },
    {
      "cell_type": "code",
      "metadata": {
        "id": "vtB2s36GmnQ9"
      },
      "source": [
        "inputs = np.array([\n",
        "                   [56,34,89],[45,89,45],[50,58,56],\n",
        "                   [122,78,88],[101,67,52],[83,85,36],\n",
        "                   [42,178,43],[74,74,87],[119,89,90],\n",
        "                   [95,79,85],[50,110,96],[69,77,89],\n",
        "                   [57,67,52],[130,90,89],[40,79,100]\n",
        "],dtype=\"float32\")\n",
        "\n",
        "targets = np.array([\n",
        "                   [56,89],[89,45],[50,67],\n",
        "                   [90,88],[90,52],[96,90],\n",
        "                   [79,43],[69,37],[112,90],\n",
        "                   [77,85],[25,65],[88,89],\n",
        "                   [70,60],[110,67],[95,76]\n",
        "],dtype=\"float32\")\n",
        "\n",
        "inputs  = torch.from_numpy(inputs)\n",
        "targets = torch.from_numpy(targets)"
      ],
      "execution_count": 2,
      "outputs": []
    },
    {
      "cell_type": "markdown",
      "metadata": {
        "id": "dTWaUfunonPH"
      },
      "source": [
        "### TensorDataset\n",
        "allows access to tensors in form of tuples,and also provides standard APIs to work with datasets"
      ]
    },
    {
      "cell_type": "code",
      "metadata": {
        "id": "MH09kUtqmnEW"
      },
      "source": [
        "from torch.utils.data import TensorDataset"
      ],
      "execution_count": 3,
      "outputs": []
    },
    {
      "cell_type": "code",
      "metadata": {
        "colab": {
          "base_uri": "https://localhost:8080/"
        },
        "id": "O6CydaaPo-om",
        "outputId": "55c3e3e5-1eb5-48a3-cd32-6f8104d75f7b"
      },
      "source": [
        "training = TensorDataset(inputs,targets)\n",
        "training[0] # input and target at that index"
      ],
      "execution_count": 4,
      "outputs": [
        {
          "output_type": "execute_result",
          "data": {
            "text/plain": [
              "(tensor([56., 34., 89.]), tensor([56., 89.]))"
            ]
          },
          "metadata": {
            "tags": []
          },
          "execution_count": 4
        }
      ]
    },
    {
      "cell_type": "markdown",
      "metadata": {
        "id": "beKalFw-pV76"
      },
      "source": [
        "### DataLoader\n",
        "used to split data into batches if predefined size during training, also provides funtions like shuffle and random sampling"
      ]
    },
    {
      "cell_type": "code",
      "metadata": {
        "id": "4VHLYjDBp4uk"
      },
      "source": [
        "from torch.utils.data import DataLoader"
      ],
      "execution_count": 5,
      "outputs": []
    },
    {
      "cell_type": "code",
      "metadata": {
        "colab": {
          "base_uri": "https://localhost:8080/"
        },
        "id": "CObuxmc1p9sc",
        "outputId": "7f1424b0-737a-42b7-9d6b-a9b3262c66f7"
      },
      "source": [
        "batch_size = 5\n",
        "train_dl = DataLoader(training,batch_size,shuffle=True)\n",
        "\n",
        "for i,t in train_dl:\n",
        "  print(i) #random 5 inputs\n",
        "  print(t) #random 5 outputs"
      ],
      "execution_count": 6,
      "outputs": [
        {
          "output_type": "stream",
          "text": [
            "tensor([[ 74.,  74.,  87.],\n",
            "        [ 56.,  34.,  89.],\n",
            "        [ 95.,  79.,  85.],\n",
            "        [130.,  90.,  89.],\n",
            "        [ 50., 110.,  96.]])\n",
            "tensor([[ 69.,  37.],\n",
            "        [ 56.,  89.],\n",
            "        [ 77.,  85.],\n",
            "        [110.,  67.],\n",
            "        [ 25.,  65.]])\n",
            "tensor([[ 40.,  79., 100.],\n",
            "        [ 45.,  89.,  45.],\n",
            "        [ 69.,  77.,  89.],\n",
            "        [ 50.,  58.,  56.],\n",
            "        [101.,  67.,  52.]])\n",
            "tensor([[95., 76.],\n",
            "        [89., 45.],\n",
            "        [88., 89.],\n",
            "        [50., 67.],\n",
            "        [90., 52.]])\n",
            "tensor([[119.,  89.,  90.],\n",
            "        [ 42., 178.,  43.],\n",
            "        [ 57.,  67.,  52.],\n",
            "        [ 83.,  85.,  36.],\n",
            "        [122.,  78.,  88.]])\n",
            "tensor([[112.,  90.],\n",
            "        [ 79.,  43.],\n",
            "        [ 70.,  60.],\n",
            "        [ 96.,  90.],\n",
            "        [ 90.,  88.]])\n"
          ],
          "name": "stdout"
        }
      ]
    },
    {
      "cell_type": "markdown",
      "metadata": {
        "id": "xFVT0e3Iqj0r"
      },
      "source": [
        "### nn.Linear\n"
      ]
    },
    {
      "cell_type": "code",
      "metadata": {
        "colab": {
          "base_uri": "https://localhost:8080/"
        },
        "id": "auBauR-tqsRn",
        "outputId": "7a6c0b74-c835-4019-c814-95f3057db2e1"
      },
      "source": [
        "model = nn.Linear(3,2) #(input size,output size)\n",
        "print(model.weight)\n",
        "print(model.bias)\n",
        "print(list(model.parameters()))"
      ],
      "execution_count": 7,
      "outputs": [
        {
          "output_type": "stream",
          "text": [
            "Parameter containing:\n",
            "tensor([[ 0.1979,  0.3782,  0.2449],\n",
            "        [ 0.0066,  0.0337, -0.2918]], requires_grad=True)\n",
            "Parameter containing:\n",
            "tensor([0.0387, 0.3952], requires_grad=True)\n",
            "[Parameter containing:\n",
            "tensor([[ 0.1979,  0.3782,  0.2449],\n",
            "        [ 0.0066,  0.0337, -0.2918]], requires_grad=True), Parameter containing:\n",
            "tensor([0.0387, 0.3952], requires_grad=True)]\n"
          ],
          "name": "stdout"
        }
      ]
    },
    {
      "cell_type": "code",
      "metadata": {
        "colab": {
          "base_uri": "https://localhost:8080/"
        },
        "id": "zRVL3d2Srabv",
        "outputId": "42e05a61-1ca8-47ed-c14a-263b858463e1"
      },
      "source": [
        "predictions = model(inputs)\n",
        "print(predictions) # messed up as in previous day"
      ],
      "execution_count": 8,
      "outputs": [
        {
          "output_type": "stream",
          "text": [
            "tensor([[ 45.7780, -24.0621],\n",
            "        [ 53.6283,  -9.4416],\n",
            "        [ 45.5867, -13.6630],\n",
            "        [ 75.2394, -21.8526],\n",
            "        [ 58.1063, -11.8561],\n",
            "        [ 57.4332,  -6.6993],\n",
            "        [ 86.2071,  -5.8795],\n",
            "        [ 63.9804, -22.0121],\n",
            "        [ 79.2959, -22.0854],\n",
            "        [ 69.5385, -21.1215],\n",
            "        [ 75.0500, -23.5841],\n",
            "        [ 64.6151, -22.5277],\n",
            "        [ 49.3968, -12.1464],\n",
            "        [ 81.6066, -21.6874],\n",
            "        [ 62.3250, -25.8617]], grad_fn=<AddmmBackward>)\n"
          ],
          "name": "stdout"
        }
      ]
    },
    {
      "cell_type": "markdown",
      "metadata": {
        "id": "1gwSnJmpruBZ"
      },
      "source": [
        "### built in mse loss funtion"
      ]
    },
    {
      "cell_type": "code",
      "metadata": {
        "id": "g1tZTfBfr1IY"
      },
      "source": [
        "import torch.nn.functional as F"
      ],
      "execution_count": 9,
      "outputs": []
    },
    {
      "cell_type": "code",
      "metadata": {
        "id": "8deuYr5nr7R8"
      },
      "source": [
        "loss_fn = F.mse_loss"
      ],
      "execution_count": 10,
      "outputs": []
    },
    {
      "cell_type": "code",
      "metadata": {
        "colab": {
          "base_uri": "https://localhost:8080/"
        },
        "id": "n0lEnQler_GO",
        "outputId": "505a7bda-01bb-4ac2-9752-8f43568e5d7e"
      },
      "source": [
        "predictions = model(inputs)\n",
        "loss = loss_fn(predictions,targets)\n",
        "loss # huge loss XD"
      ],
      "execution_count": 11,
      "outputs": [
        {
          "output_type": "execute_result",
          "data": {
            "text/plain": [
              "tensor(4394.2676, grad_fn=<MseLossBackward>)"
            ]
          },
          "metadata": {
            "tags": []
          },
          "execution_count": 11
        }
      ]
    },
    {
      "cell_type": "markdown",
      "metadata": {
        "id": "HCU266rEsgnG"
      },
      "source": [
        "### Decreasing loss using optimiser\n",
        "**torch.optim.SGD**, SGD = Stochastic Gradient Descent, same thing as changing weights and biases by a smol proportional value like day2"
      ]
    },
    {
      "cell_type": "code",
      "metadata": {
        "id": "maer9mvItCGf"
      },
      "source": [
        "opt = torch.optim.SGD(model.parameters(),lr=1e-5) #lr means learning rate"
      ],
      "execution_count": 12,
      "outputs": []
    },
    {
      "cell_type": "markdown",
      "metadata": {
        "id": "v0uxjPV-ts-9"
      },
      "source": [
        "### Training go brrrrr\n",
        "1. generate predictions\n",
        "2. calc loss\n",
        "3. calc gradients\n",
        "4. adjust weights\n",
        "5. reset gradients to 0\n",
        "\n",
        "will work in batches of data"
      ]
    },
    {
      "cell_type": "code",
      "metadata": {
        "id": "NOrkpRkWuI7Z"
      },
      "source": [
        "def train(number_epochs,model,loss_fn,opt):\n",
        "  for epoch in range(number_epochs):\n",
        "    for i,t in train_dl:\n",
        "      predictions = model(i)        # generate preds\n",
        "      loss = loss_fn(predictions,t) # calcs loss\n",
        "      loss.backward()               # calc grads\n",
        "      opt.step()                    # update weights and biases, w-=whatever in day2\n",
        "      opt.zero_grad()               # reset to 0\n",
        "\n",
        "    if (epoch+1) % 10==0:print(f\"{epoch+1}/{number_epochs} | loss: {torch.sqrt(loss)}\")"
      ],
      "execution_count": 13,
      "outputs": []
    },
    {
      "cell_type": "code",
      "metadata": {
        "colab": {
          "base_uri": "https://localhost:8080/"
        },
        "id": "ky_hIU5GvN2U",
        "outputId": "6ed45fd7-b4dd-45f2-881c-fb26e0c7db27"
      },
      "source": [
        "train(100,model,loss_fn,opt)"
      ],
      "execution_count": 14,
      "outputs": [
        {
          "output_type": "stream",
          "text": [
            "10/100 | loss: 27.214757919311523\n",
            "20/100 | loss: 27.020532608032227\n",
            "30/100 | loss: 28.104780197143555\n",
            "40/100 | loss: 25.18886375427246\n",
            "50/100 | loss: 25.468076705932617\n",
            "60/100 | loss: 19.826688766479492\n",
            "70/100 | loss: 17.71146011352539\n",
            "80/100 | loss: 18.887939453125\n",
            "90/100 | loss: 16.69626235961914\n",
            "100/100 | loss: 22.824735641479492\n"
          ],
          "name": "stdout"
        }
      ]
    },
    {
      "cell_type": "code",
      "metadata": {
        "colab": {
          "base_uri": "https://localhost:8080/"
        },
        "id": "HxcpZSjawRoJ",
        "outputId": "94280e62-026c-4544-b48f-57a34f30e503"
      },
      "source": [
        "predictions = model(inputs)\n",
        "predictions #better and closer to actual data"
      ],
      "execution_count": 15,
      "outputs": [
        {
          "output_type": "execute_result",
          "data": {
            "text/plain": [
              "tensor([[ 54.6310,  63.0995],\n",
              "        [ 58.9014,  45.1400],\n",
              "        [ 53.7551,  48.6319],\n",
              "        [104.2026,  89.6485],\n",
              "        [ 83.8753,  65.1340],\n",
              "        [ 77.1392,  53.6264],\n",
              "        [ 84.3617,  52.3220],\n",
              "        [ 76.5121,  72.4263],\n",
              "        [106.2473,  90.6530],\n",
              "        [ 89.2598,  79.1946],\n",
              "        [ 75.8014,  71.9864],\n",
              "        [ 74.9972,  71.9306],\n",
              "        [ 59.7597,  50.1355],\n",
              "        [112.4333,  94.0541],\n",
              "        [ 61.3780,  67.2091]], grad_fn=<AddmmBackward>)"
            ]
          },
          "metadata": {
            "tags": []
          },
          "execution_count": 15
        }
      ]
    }
  ]
}