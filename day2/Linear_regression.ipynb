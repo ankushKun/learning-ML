{
  "nbformat": 4,
  "nbformat_minor": 0,
  "metadata": {
    "colab": {
      "name": "Linear_regression.ipynb",
      "provenance": [],
      "collapsed_sections": [],
      "authorship_tag": "ABX9TyNxpAkqq0tUDHRufEy/fowk",
      "include_colab_link": true
    },
    "kernelspec": {
      "name": "python3",
      "display_name": "Python 3"
    }
  },
  "cells": [
    {
      "cell_type": "markdown",
      "metadata": {
        "id": "view-in-github",
        "colab_type": "text"
      },
      "source": [
        "<a href=\"https://colab.research.google.com/github/ankushKun/learning-ML/blob/master/day2/Linear_regression.ipynb\" target=\"_parent\"><img src=\"https://colab.research.google.com/assets/colab-badge.svg\" alt=\"Open In Colab\"/></a>"
      ]
    },
    {
      "cell_type": "markdown",
      "metadata": {
        "id": "o68aC0dRAOTI"
      },
      "source": [
        "# Linear Regression"
      ]
    },
    {
      "cell_type": "code",
      "metadata": {
        "id": "ggzrzRya-McV"
      },
      "source": [
        "import torch\n",
        "import numpy as np"
      ],
      "execution_count": 1,
      "outputs": []
    },
    {
      "cell_type": "markdown",
      "metadata": {
        "id": "85Sig0qKBXTb"
      },
      "source": [
        "### Training data\n",
        "*to predict crop yeild of apples,oranges(target variables) using avg temp, rainfall, humidity(input variables aka features)*\n",
        "\n",
        "|Region|Temp(F)|Rainfall(mm)|Humidity(%)|Apples|Oranges|\n",
        "|:-----|:-----:|:----------:|:---------:|:----:|:-:|\n",
        "|Kanto |73     |67          |43         |56    |70 |\n",
        "|Johoto|91     |88          |64         |81    |101|\n",
        "|Hoenn |87     |134         |58         |119   |133|\n",
        "|Sinnoh|102    |43          |37         |22    |37 |\n",
        "|Unova |69     |96          |70         |103   |119|\n",
        "\n",
        "yeild_apple = w11 * temp + w12 * rainfall + w13 * humidity + b1\\\n",
        "yeild_orange = w21 * temp + w22 * rainfall + w23 * humidity + b2\\\n",
        "w - weight\\\n",
        "b - bias\n"
      ]
    },
    {
      "cell_type": "code",
      "metadata": {
        "id": "JSRol-4iDes5"
      },
      "source": [
        "# inputs (temp,rainfall,humidity)\n",
        "inputs = np.array([\n",
        "                   [73.,67,43],\n",
        "                   [91,88,64],\n",
        "                   [87,134,58],\n",
        "                   [102,43,37],\n",
        "                   [69,96,70]\n",
        "], dtype='float32')"
      ],
      "execution_count": 2,
      "outputs": []
    },
    {
      "cell_type": "code",
      "metadata": {
        "id": "cRnGMDKyLwjH"
      },
      "source": [
        "# targets (apples,oranges)\n",
        "targets = np.array([\n",
        "                   [56.,70],\n",
        "                   [81,101],\n",
        "                   [119,133],\n",
        "                   [22,37],\n",
        "                   [103,119]\n",
        "], dtype='float32')"
      ],
      "execution_count": 3,
      "outputs": []
    },
    {
      "cell_type": "markdown",
      "metadata": {
        "id": "278bq84bL5yO"
      },
      "source": [
        "convert arrays to tensors"
      ]
    },
    {
      "cell_type": "code",
      "metadata": {
        "colab": {
          "base_uri": "https://localhost:8080/"
        },
        "id": "Kypad3_iL8Jv",
        "outputId": "c286c05a-40cc-4c64-8b1d-e60182aafb28"
      },
      "source": [
        "inputs = torch.from_numpy(inputs)\n",
        "targets = torch.from_numpy(targets)\n",
        "print(inputs)\n",
        "print(targets)"
      ],
      "execution_count": 4,
      "outputs": [
        {
          "output_type": "stream",
          "text": [
            "tensor([[ 73.,  67.,  43.],\n",
            "        [ 91.,  88.,  64.],\n",
            "        [ 87., 134.,  58.],\n",
            "        [102.,  43.,  37.],\n",
            "        [ 69.,  96.,  70.]])\n",
            "tensor([[ 56.,  70.],\n",
            "        [ 81., 101.],\n",
            "        [119., 133.],\n",
            "        [ 22.,  37.],\n",
            "        [103., 119.]])\n"
          ],
          "name": "stdout"
        }
      ]
    },
    {
      "cell_type": "markdown",
      "metadata": {
        "id": "m8omCt8LPAwi"
      },
      "source": [
        "creating wights and biases"
      ]
    },
    {
      "cell_type": "code",
      "metadata": {
        "colab": {
          "base_uri": "https://localhost:8080/"
        },
        "id": "NE1BgRERPDwL",
        "outputId": "d788d998-3601-4e78-d14c-bf82368cb752"
      },
      "source": [
        "w = torch.randn(2,3,requires_grad=True) # 2 rows 3 columns\n",
        "# w11  w12  w13\n",
        "# w21  w22  w23\n",
        "b = torch.randn(2,requires_grad=True)\n",
        "#b1\n",
        "#b2\n",
        "print(w)\n",
        "print(b)"
      ],
      "execution_count": 5,
      "outputs": [
        {
          "output_type": "stream",
          "text": [
            "tensor([[-3.0202, -0.6593, -0.0676],\n",
            "        [ 0.9038,  1.8182,  0.3440]], requires_grad=True)\n",
            "tensor([ 0.1019, -0.8091], requires_grad=True)\n"
          ],
          "name": "stdout"
        }
      ]
    },
    {
      "cell_type": "markdown",
      "metadata": {
        "id": "KOhraqFvYvGP"
      },
      "source": [
        "### X * W^T + b\n",
        "5x3 matrix * weights matrix(transposed) + bias\\\n",
        "**.t()** transposes a matrix\\\n",
        "**@** is matrix multiplication in pytorch"
      ]
    },
    {
      "cell_type": "code",
      "metadata": {
        "id": "YK15TSXOZTgg"
      },
      "source": [
        "def model(x):\n",
        "  return x@w.t() + b"
      ],
      "execution_count": 6,
      "outputs": []
    },
    {
      "cell_type": "code",
      "metadata": {
        "colab": {
          "base_uri": "https://localhost:8080/"
        },
        "id": "wbi0kpEGZ05O",
        "outputId": "4d1485e7-e8c7-41cb-c563-34c666f72833"
      },
      "source": [
        "predictions = model(inputs)\n",
        "print(predictions) # predictions of apples and oranges"
      ],
      "execution_count": 7,
      "outputs": [
        {
          "output_type": "stream",
          "text": [
            "tensor([[-267.4519,  201.7789],\n",
            "        [-337.0806,  263.4536],\n",
            "        [-354.9227,  341.4121],\n",
            "        [-338.8072,  182.2870],\n",
            "        [-276.3174,  260.1804]], grad_fn=<AddBackward0>)\n"
          ],
          "name": "stdout"
        }
      ]
    },
    {
      "cell_type": "markdown",
      "metadata": {
        "id": "MR-dlSnNa6T6"
      },
      "source": [
        "### Loss function\n",
        "- calc difference between predictions and actual target\n",
        "- square all elements of the resulting matrix to remove -ve values\n",
        "- take average of the resulting elements\n",
        "This is known as MSE (Mean Square Error)\n"
      ]
    },
    {
      "cell_type": "code",
      "metadata": {
        "colab": {
          "base_uri": "https://localhost:8080/"
        },
        "id": "8zZcDD-Obsgc",
        "outputId": "4b469603-756f-472b-92e8-752cf9fa4a8f"
      },
      "source": [
        "difference = targets - predictions\n",
        "difference_square = difference * difference\n",
        "mse = torch.sum(difference_square) / difference_square.numel() # numel - number of elements\n",
        "mse"
      ],
      "execution_count": 8,
      "outputs": [
        {
          "output_type": "execute_result",
          "data": {
            "text/plain": [
              "tensor(90631.1484, grad_fn=<DivBackward0>)"
            ]
          },
          "metadata": {
            "tags": []
          },
          "execution_count": 8
        }
      ]
    },
    {
      "cell_type": "code",
      "metadata": {
        "id": "Wf9LVX5bcYaz"
      },
      "source": [
        "def mse(t1,t2):\n",
        "  difference = targets - predictions\n",
        "  difference_square = difference * difference\n",
        "  mse = torch.sum(difference_square) / difference_square.numel() # numel - number of elements\n",
        "  return mse"
      ],
      "execution_count": 9,
      "outputs": []
    },
    {
      "cell_type": "code",
      "metadata": {
        "colab": {
          "base_uri": "https://localhost:8080/"
        },
        "id": "IE5i9AhScmUW",
        "outputId": "f0a2d4b7-d0c0-421c-cb02-4584ffedc771"
      },
      "source": [
        "# lower loss = better model\n",
        "loss = mse(targets,predictions)\n",
        "print(loss)\n",
        "print(torch.sqrt(loss)) # each element varies by this much"
      ],
      "execution_count": 10,
      "outputs": [
        {
          "output_type": "stream",
          "text": [
            "tensor(90631.1484, grad_fn=<DivBackward0>)\n",
            "tensor(301.0501, grad_fn=<SqrtBackward>)\n"
          ],
          "name": "stdout"
        }
      ]
    },
    {
      "cell_type": "markdown",
      "metadata": {
        "id": "i_CPPVzNdrTo"
      },
      "source": [
        "### Compute derivative of loss"
      ]
    },
    {
      "cell_type": "code",
      "metadata": {
        "id": "EXkqW72pdpq-"
      },
      "source": [
        "loss.backward()"
      ],
      "execution_count": 11,
      "outputs": []
    },
    {
      "cell_type": "code",
      "metadata": {
        "colab": {
          "base_uri": "https://localhost:8080/"
        },
        "id": "w7lL686Nd3vR",
        "outputId": "eac28459-91bc-4d38-820f-9968473d64b5"
      },
      "source": [
        "print(w)\n",
        "print(w.grad) # each element is the derivative of loss w.r.t that element in w\n",
        "#dloss/dwn1n2"
      ],
      "execution_count": 12,
      "outputs": [
        {
          "output_type": "stream",
          "text": [
            "tensor([[-3.0202, -0.6593, -0.0676],\n",
            "        [ 0.9038,  1.8182,  0.3440]], requires_grad=True)\n",
            "tensor([[-33172.7695, -34779.4414, -21611.0391],\n",
            "        [ 13419.1406,  14170.5957,   8681.9336]])\n"
          ],
          "name": "stdout"
        }
      ]
    },
    {
      "cell_type": "code",
      "metadata": {
        "colab": {
          "base_uri": "https://localhost:8080/"
        },
        "id": "Bj3NKtYAeiz-",
        "outputId": "6c381a9d-f06b-4fd7-ddf0-1df2907ba85c"
      },
      "source": [
        "print(b)\n",
        "print(b.grad)"
      ],
      "execution_count": 13,
      "outputs": [
        {
          "output_type": "stream",
          "text": [
            "tensor([ 0.1019, -0.8091], requires_grad=True)\n",
            "tensor([-391.1160,  157.8224])\n"
          ],
          "name": "stdout"
        }
      ]
    },
    {
      "cell_type": "markdown",
      "metadata": {
        "id": "N4-gzqCBffka"
      },
      "source": [
        "#### for -ve gradient element\n",
        "- decreasing w will increase loss\n",
        "- increasing w will decrease loss\n",
        "\n",
        "#### for +ve gradient element\n",
        "- increasing w will increase loss\n",
        "- decreasing w will decrease loss\n",
        "\n",
        "Therefore, if gradient is +ve decrease w, if -ve increase w"
      ]
    },
    {
      "cell_type": "code",
      "metadata": {
        "colab": {
          "base_uri": "https://localhost:8080/"
        },
        "id": "IhUSxBh8gaO8",
        "outputId": "6a73755d-3a45-428f-b37d-891bcf401b34"
      },
      "source": [
        "# reset grad before continuing coz torch keeps adding then when we do .backward()\n",
        "w.grad.zero_()\n",
        "b.grad.zero_()\n",
        "print(w.grad,b.grad)"
      ],
      "execution_count": 14,
      "outputs": [
        {
          "output_type": "stream",
          "text": [
            "tensor([[0., 0., 0.],\n",
            "        [0., 0., 0.]]) tensor([0., 0.])\n"
          ],
          "name": "stdout"
        }
      ]
    },
    {
      "cell_type": "markdown",
      "metadata": {
        "id": "sPXevi9MhqhF"
      },
      "source": [
        "1. calc predictions\n",
        "2. calc loss\n",
        "3. calc derivatives\n",
        "4. subtract a small value proportional to the gradient\n",
        "5. recalculate predictions with updated w and b\n",
        "6. calc loss (hopefully lesser than before :) )"
      ]
    },
    {
      "cell_type": "code",
      "metadata": {
        "colab": {
          "base_uri": "https://localhost:8080/"
        },
        "id": "TzU3jKGcg7t3",
        "outputId": "768221c6-c6af-4f90-e32a-020cb31191d4"
      },
      "source": [
        "predictions = model(inputs)\n",
        "loss = mse(targets,predictions)\n",
        "loss.backward()\n",
        "print(w)\n",
        "print(b)"
      ],
      "execution_count": 15,
      "outputs": [
        {
          "output_type": "stream",
          "text": [
            "tensor([[-3.0202, -0.6593, -0.0676],\n",
            "        [ 0.9038,  1.8182,  0.3440]], requires_grad=True)\n",
            "tensor([ 0.1019, -0.8091], requires_grad=True)\n"
          ],
          "name": "stdout"
        }
      ]
    },
    {
      "cell_type": "code",
      "metadata": {
        "colab": {
          "base_uri": "https://localhost:8080/"
        },
        "id": "H9n_ekbjiJez",
        "outputId": "70d9bc79-403c-4198-f414-340ef35695e4"
      },
      "source": [
        "def subt(w,b):\n",
        "  with torch.no_grad():# will not track/calc/modify any grad calcs\n",
        "    w -= w.grad * 1e-5 #smol proportional value\n",
        "    b -= b.grad * 1e-5\n",
        "    w.grad.zero_()\n",
        "    b.grad.zero_()\n",
        "subt(w,b)\n",
        "print(w)\n",
        "print(b)"
      ],
      "execution_count": 16,
      "outputs": [
        {
          "output_type": "stream",
          "text": [
            "tensor([[-2.6884, -0.3115,  0.1485],\n",
            "        [ 0.7696,  1.6765,  0.2572]], requires_grad=True)\n",
            "tensor([ 0.1058, -0.8107], requires_grad=True)\n"
          ],
          "name": "stdout"
        }
      ]
    },
    {
      "cell_type": "code",
      "metadata": {
        "colab": {
          "base_uri": "https://localhost:8080/"
        },
        "id": "X1RYFicTjJL1",
        "outputId": "925dd50d-85ce-4cc2-c6e8-c5f6571de70c"
      },
      "source": [
        "predictions = model(inputs)\n",
        "loss = mse(predictions,targets)\n",
        "print(loss)\n",
        "print(torch.sqrt(loss)) # decrease in loss :D"
      ],
      "execution_count": 17,
      "outputs": [
        {
          "output_type": "stream",
          "text": [
            "tensor(61191.1992, grad_fn=<DivBackward0>)\n",
            "tensor(247.3685, grad_fn=<SqrtBackward>)\n"
          ],
          "name": "stdout"
        }
      ]
    },
    {
      "cell_type": "markdown",
      "metadata": {
        "id": "4bbOGBcNkEmp"
      },
      "source": [
        "loop and keep reducing loss\\\n",
        "each loop is called an **epoch**"
      ]
    },
    {
      "cell_type": "code",
      "metadata": {
        "id": "DID5qFFckuBc",
        "colab": {
          "base_uri": "https://localhost:8080/"
        },
        "outputId": "cd4b5405-7bda-49f2-d4a8-ee54b2b9615b"
      },
      "source": [
        "for _ in range(100000):\n",
        "  predictions = model(inputs)\n",
        "  loss = mse(predictions,targets)\n",
        "  loss.backward()\n",
        "  subt(w,b)\n",
        "#print(loss)\n",
        "#print(torch.sqrt(loss))\n",
        "print(predictions)"
      ],
      "execution_count": 20,
      "outputs": [
        {
          "output_type": "stream",
          "text": [
            "tensor([[ 57.1791,  70.1666],\n",
            "        [ 82.1982, 100.7595],\n",
            "        [118.6907, 132.9817],\n",
            "        [ 21.0796,  37.0331],\n",
            "        [101.9228, 119.1151]], grad_fn=<AddBackward0>)\n"
          ],
          "name": "stdout"
        }
      ]
    }
  ]
}