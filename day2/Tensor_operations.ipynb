{
  "nbformat": 4,
  "nbformat_minor": 0,
  "metadata": {
    "colab": {
      "name": "Tensor_operations.ipynb",
      "provenance": [],
      "collapsed_sections": [],
      "authorship_tag": "ABX9TyNmpHRldPeBSyEvoPEeUHFt",
      "include_colab_link": true
    },
    "kernelspec": {
      "name": "python3",
      "display_name": "Python 3"
    }
  },
  "cells": [
    {
      "cell_type": "markdown",
      "metadata": {
        "id": "view-in-github",
        "colab_type": "text"
      },
      "source": [
        "<a href=\"https://colab.research.google.com/github/ankushKun/learning-ML/blob/master/day2/Tensor_operations.ipynb\" target=\"_parent\"><img src=\"https://colab.research.google.com/assets/colab-badge.svg\" alt=\"Open In Colab\"/></a>"
      ]
    },
    {
      "cell_type": "markdown",
      "metadata": {
        "id": "E7RecI1ho5mg"
      },
      "source": [
        "# Operations on tensors"
      ]
    },
    {
      "cell_type": "code",
      "metadata": {
        "id": "HjyrHLbgoqWB"
      },
      "source": [
        "import torch"
      ],
      "execution_count": null,
      "outputs": []
    },
    {
      "cell_type": "code",
      "metadata": {
        "id": "zmE2Bv9-pEEH"
      },
      "source": [
        "x = torch.tensor(3.)\n",
        "w = torch.tensor(4.,requires_grad=True)\n",
        "z = torch.tensor(5.,requires_grad=True)"
      ],
      "execution_count": null,
      "outputs": []
    },
    {
      "cell_type": "markdown",
      "metadata": {
        "id": "xEFc_gdLpZBH"
      },
      "source": [
        "performing normal math operations on tensors"
      ]
    },
    {
      "cell_type": "code",
      "metadata": {
        "colab": {
          "base_uri": "https://localhost:8080/"
        },
        "id": "RnqhdhHDpcZu",
        "outputId": "fdd9b6bc-0983-46fe-b806-7b20e60dc71f"
      },
      "source": [
        "y = x*w+z\n",
        "print(y)"
      ],
      "execution_count": null,
      "outputs": [
        {
          "output_type": "stream",
          "text": [
            "tensor(17., grad_fn=<AddBackward0>)\n"
          ],
          "name": "stdout"
        }
      ]
    },
    {
      "cell_type": "markdown",
      "metadata": {
        "id": "haAcJLuBqL0C"
      },
      "source": [
        "we can also find derivatives of tensors which have requires_grad=True\\\n",
        "derivatives is important for gradient descent algorithm\\\n",
        "**tensor.backward()** is used to compute derivatives\\\n",
        "PS - *dont run it more than once or it will throw errors*"
      ]
    },
    {
      "cell_type": "code",
      "metadata": {
        "id": "nS5L12vpqaMk"
      },
      "source": [
        "y.backward()"
      ],
      "execution_count": null,
      "outputs": []
    },
    {
      "cell_type": "markdown",
      "metadata": {
        "id": "DB321aPWx53p"
      },
      "source": [
        "derivatives of y with respect to input tensors(x,w,z) are stored in their **.grad** property\\\n",
        "gradient and derivatives are the samething\\\n",
        "gradient used when dealing with matrices\\\n",
        "derivative used when dealing with numbers"
      ]
    },
    {
      "cell_type": "code",
      "metadata": {
        "colab": {
          "base_uri": "https://localhost:8080/"
        },
        "id": "e-0JmSrxsYnx",
        "outputId": "5aefd7ac-eefe-4f61-9cf6-01a17fbf70b9"
      },
      "source": [
        "# derivative of \n",
        "print(\"dy/dx:\",x.grad) # None because x doesnot have requires_grad=True\n",
        "print(\"dy/dw:\",w.grad)\n",
        "print(\"dy/dz:\",z.grad)"
      ],
      "execution_count": null,
      "outputs": [
        {
          "output_type": "stream",
          "text": [
            "dy/dx: None\n",
            "dy/dw: tensor(3.)\n",
            "dy/dz: tensor(1.)\n"
          ],
          "name": "stdout"
        }
      ]
    },
    {
      "cell_type": "code",
      "metadata": {
        "colab": {
          "base_uri": "https://localhost:8080/"
        },
        "id": "-eaUiRxG4OL0",
        "outputId": "1e941ed1-22da-4cad-93ad-77822fe1c054"
      },
      "source": [
        "a = torch.tensor([[1.,2],[2,1]],requires_grad=True)\n",
        "b = torch.tensor([[4.,5],[3,2]],requires_grad=True)\n",
        "c = a+b\n",
        "#c.backward()\n",
        "print(a.grad)"
      ],
      "execution_count": null,
      "outputs": [
        {
          "output_type": "stream",
          "text": [
            "None\n"
          ],
          "name": "stdout"
        }
      ]
    },
    {
      "cell_type": "markdown",
      "metadata": {
        "id": "_Q6kMUey43Rg"
      },
      "source": [
        "**.backward()** only works on scalar/0D values +_+"
      ]
    },
    {
      "cell_type": "code",
      "metadata": {
        "colab": {
          "base_uri": "https://localhost:8080/"
        },
        "id": "aAc31OZw6QXx",
        "outputId": "d7cd2abd-e701-4ea7-9525-108eeb86ab1b"
      },
      "source": [
        "y = x+w+z\n",
        "z = y*x\n",
        "#z.backward()\n",
        "w.grad, x.grad, z.grad"
      ],
      "execution_count": null,
      "outputs": [
        {
          "output_type": "stream",
          "text": [
            "/usr/local/lib/python3.6/dist-packages/ipykernel_launcher.py:4: UserWarning: The .grad attribute of a Tensor that is not a leaf Tensor is being accessed. Its .grad attribute won't be populated during autograd.backward(). If you indeed want the gradient for a non-leaf Tensor, use .retain_grad() on the non-leaf Tensor. If you access the non-leaf Tensor by mistake, make sure you access the leaf Tensor instead. See github.com/pytorch/pytorch/pull/30531 for more informations.\n",
            "  after removing the cwd from sys.path.\n"
          ],
          "name": "stderr"
        },
        {
          "output_type": "execute_result",
          "data": {
            "text/plain": [
              "(tensor(3.), None, None)"
            ]
          },
          "metadata": {
            "tags": []
          },
          "execution_count": 7
        }
      ]
    },
    {
      "cell_type": "markdown",
      "metadata": {
        "id": "AqF3gt-_1fzQ"
      },
      "source": [
        "# Pytorch with numpy"
      ]
    },
    {
      "cell_type": "code",
      "metadata": {
        "id": "EEhEwgJ31kJB"
      },
      "source": [
        "import numpy as np"
      ],
      "execution_count": null,
      "outputs": []
    },
    {
      "cell_type": "code",
      "metadata": {
        "colab": {
          "base_uri": "https://localhost:8080/"
        },
        "id": "i9G5Depz1r6L",
        "outputId": "ce386dba-7d54-4513-93b4-0492a1e22cab"
      },
      "source": [
        "x = np.array([[1.,2],[3,4]])\n",
        "print(x)"
      ],
      "execution_count": null,
      "outputs": [
        {
          "output_type": "stream",
          "text": [
            "[[1. 2.]\n",
            " [3. 4.]]\n"
          ],
          "name": "stdout"
        }
      ]
    },
    {
      "cell_type": "markdown",
      "metadata": {
        "id": "AlsDSoNo13t7"
      },
      "source": [
        "numpy array to pytorch tensor"
      ]
    },
    {
      "cell_type": "code",
      "metadata": {
        "colab": {
          "base_uri": "https://localhost:8080/"
        },
        "id": "aAwbVQmx188k",
        "outputId": "36e5e6a0-cd76-4714-a603-61e2328737f4"
      },
      "source": [
        "y1 = torch.from_numpy(x) # uses the same memory space\n",
        "y2 = torch.tensor(x)     # creates a copy allots new memory space\n",
        "print(y1)\n",
        "print(y2)"
      ],
      "execution_count": null,
      "outputs": [
        {
          "output_type": "stream",
          "text": [
            "tensor([[1., 2.],\n",
            "        [3., 4.]], dtype=torch.float64)\n",
            "tensor([[1., 2.],\n",
            "        [3., 4.]], dtype=torch.float64)\n"
          ],
          "name": "stdout"
        }
      ]
    },
    {
      "cell_type": "code",
      "metadata": {
        "colab": {
          "base_uri": "https://localhost:8080/"
        },
        "id": "uMlGjIkJ2sMy",
        "outputId": "e24dbfab-a017-4863-90e0-cbcba093894f"
      },
      "source": [
        "print(x.dtype) #np array\n",
        "print(y1.dtype)#tensor\n",
        "print(y2.dtype)#tensor"
      ],
      "execution_count": null,
      "outputs": [
        {
          "output_type": "stream",
          "text": [
            "float64\n",
            "torch.float64\n",
            "torch.float64\n"
          ],
          "name": "stdout"
        }
      ]
    },
    {
      "cell_type": "markdown",
      "metadata": {
        "id": "yBM0aqWZ3BSO"
      },
      "source": [
        "pytorch tensor to numpy array"
      ]
    },
    {
      "cell_type": "code",
      "metadata": {
        "colab": {
          "base_uri": "https://localhost:8080/"
        },
        "id": "IthBKFgb3EJQ",
        "outputId": "5cf3f99b-b0db-427f-bba3-f135f52f1722"
      },
      "source": [
        "z = y1.numpy()\n",
        "z"
      ],
      "execution_count": null,
      "outputs": [
        {
          "output_type": "execute_result",
          "data": {
            "text/plain": [
              "array([[1., 2.],\n",
              "       [3., 4.]])"
            ]
          },
          "metadata": {
            "tags": []
          },
          "execution_count": 12
        }
      ]
    }
  ]
}