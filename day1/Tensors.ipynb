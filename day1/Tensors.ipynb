{
  "nbformat": 4,
  "nbformat_minor": 0,
  "metadata": {
    "colab": {
      "name": "Tensors.ipynb",
      "provenance": [],
      "collapsed_sections": []
    },
    "kernelspec": {
      "name": "python3",
      "display_name": "Python 3"
    }
  },
  "cells": [
    {
      "cell_type": "markdown",
      "metadata": {
        "id": "8Yr-kXaxvfxZ"
      },
      "source": [
        "# Tensors\n",
        "A nuber, vector, matrix or any N dimensional array\n",
        "Everything is made up of tensors"
      ]
    },
    {
      "cell_type": "code",
      "metadata": {
        "id": "tvnirkCfvrPn"
      },
      "source": [
        "import torch # Importing pytorch"
      ],
      "execution_count": 10,
      "outputs": []
    },
    {
      "cell_type": "markdown",
      "metadata": {
        "id": "2tfUSTtBxdFz"
      },
      "source": [
        "Creating tensors"
      ]
    },
    {
      "cell_type": "code",
      "metadata": {
        "colab": {
          "base_uri": "https://localhost:8080/"
        },
        "id": "ad6r56Uiv7ZT",
        "outputId": "37ed2fc7-1e08-4ce4-8b33-00de73da7714"
      },
      "source": [
        "# Number tensor\n",
        "t1 = torch.tensor(4.) # 4. is short for 4.0\n",
        "print(t1)\n",
        "print(t1.dtype)"
      ],
      "execution_count": 9,
      "outputs": [
        {
          "output_type": "stream",
          "text": [
            "tensor(4.)\n",
            "torch.float32\n"
          ],
          "name": "stdout"
        }
      ]
    },
    {
      "cell_type": "code",
      "metadata": {
        "colab": {
          "base_uri": "https://localhost:8080/"
        },
        "id": "_ck5j_mdwnZr",
        "outputId": "941cbe19-0517-429f-c76b-63c8dfa4b8c7"
      },
      "source": [
        "# Vector tensor\n",
        "t2 = torch.tensor([1.,2,3,4,5])\n",
        "print(t2) # everythons gets converted to the same datatype\n",
        "print(t2.dtype)"
      ],
      "execution_count": 8,
      "outputs": [
        {
          "output_type": "stream",
          "text": [
            "tensor([1., 2., 3., 4., 5.])\n",
            "torch.float32\n"
          ],
          "name": "stdout"
        }
      ]
    },
    {
      "cell_type": "code",
      "metadata": {
        "colab": {
          "base_uri": "https://localhost:8080/"
        },
        "id": "4fWgxFEgxg0K",
        "outputId": "c3a49216-4e92-4fd6-b216-3623c2115957"
      },
      "source": [
        "# Matrix Tensor\n",
        "t3 = torch.tensor([[1.,2],[4,5],[3,6]])\n",
        "print(t3)\n",
        "print(t3.dtype)"
      ],
      "execution_count": 12,
      "outputs": [
        {
          "output_type": "stream",
          "text": [
            "tensor([[1., 2.],\n",
            "        [4., 5.],\n",
            "        [3., 6.]])\n",
            "torch.float32\n"
          ],
          "name": "stdout"
        }
      ]
    },
    {
      "cell_type": "code",
      "metadata": {
        "colab": {
          "base_uri": "https://localhost:8080/"
        },
        "id": "hhidLN46x4wA",
        "outputId": "cdcb8761-5c6e-4522-dd86-8466d68c9468"
      },
      "source": [
        "# 3D tensor\n",
        "t4 = torch.tensor([[[1,2,3],[4,5,6]],[[9,6,3],[1,6,4]]])\n",
        "t4"
      ],
      "execution_count": 14,
      "outputs": [
        {
          "output_type": "execute_result",
          "data": {
            "text/plain": [
              "tensor([[[1, 2, 3],\n",
              "         [4, 5, 6]],\n",
              "\n",
              "        [[9, 6, 3],\n",
              "         [1, 6, 4]]])"
            ]
          },
          "metadata": {
            "tags": []
          },
          "execution_count": 14
        }
      ]
    },
    {
      "cell_type": "markdown",
      "metadata": {
        "id": "kMbZSx_J0KrD"
      },
      "source": [
        "Unlike list of lists, tensors should have a regular shape\\\n",
        "same number of elements in each list\\\n",
        "Dimension of a tensor is determined by the number of elements moving from the outermost list to the inner"
      ]
    },
    {
      "cell_type": "code",
      "metadata": {
        "colab": {
          "base_uri": "https://localhost:8080/"
        },
        "id": "i6vMTFq90NEH",
        "outputId": "e4ed023f-1d79-4dd8-baec-96e146080804"
      },
      "source": [
        "print(t1,t1.shape) #empty list coz tensor is just a number\n",
        "print(t2,t2.shape)\n",
        "print(t3,t3.shape)\n",
        "print(t4,t4.shape)"
      ],
      "execution_count": 17,
      "outputs": [
        {
          "output_type": "stream",
          "text": [
            "tensor(4.) torch.Size([])\n",
            "tensor([1., 2., 3., 4., 5.]) torch.Size([5])\n",
            "tensor([[1., 2.],\n",
            "        [4., 5.],\n",
            "        [3., 6.]]) torch.Size([3, 2])\n",
            "tensor([[[1, 2, 3],\n",
            "         [4, 5, 6]],\n",
            "\n",
            "        [[9, 6, 3],\n",
            "         [1, 6, 4]]]) torch.Size([2, 2, 3])\n"
          ],
          "name": "stdout"
        }
      ]
    },
    {
      "cell_type": "code",
      "metadata": {
        "id": "9hp5KYrS1Tq6"
      },
      "source": [
        ""
      ],
      "execution_count": null,
      "outputs": []
    }
  ]
}